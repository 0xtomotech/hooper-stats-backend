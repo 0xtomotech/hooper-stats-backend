{
 "cells": [
  {
   "cell_type": "markdown",
   "metadata": {},
   "source": [
    "# Sportradar: Schedule and team fetching"
   ]
  },
  {
   "cell_type": "code",
   "execution_count": 1,
   "metadata": {},
   "outputs": [
    {
     "name": "stdout",
     "output_type": "stream",
     "text": [
      "hello world\n"
     ]
    }
   ],
   "source": [
    "print(\"hello world\")"
   ]
  },
  {
   "cell_type": "code",
   "execution_count": 2,
   "metadata": {},
   "outputs": [],
   "source": [
    "import sys\n",
    "import os\n",
    "from django.conf import settings"
   ]
  },
  {
   "cell_type": "code",
   "execution_count": 5,
   "metadata": {},
   "outputs": [],
   "source": [
    "# Get the absolute path of the project root\n",
    "project_root = os.path.abspath(os.path.join(os.getcwd(), '..', '..'))\n",
    "sys.path.append(project_root)"
   ]
  },
  {
   "cell_type": "code",
   "execution_count": 6,
   "metadata": {},
   "outputs": [],
   "source": [
    "# Set up Django\n",
    "os.environ.setdefault(\"DJANGO_SETTINGS_MODULE\", \"hooperstats.settings\")\n",
    "import django\n",
    "django.setup()"
   ]
  },
  {
   "cell_type": "code",
   "execution_count": 7,
   "metadata": {},
   "outputs": [],
   "source": [
    "# Now we can import your utility files\n",
    "from api.sportradar_utils import get_sportradar_data\n",
    "from api.supabase_utils import get_supabase_client"
   ]
  },
  {
   "cell_type": "code",
   "execution_count": 8,
   "metadata": {},
   "outputs": [],
   "source": [
    "# Get Supabase client\n",
    "supabase = get_supabase_client()"
   ]
  },
  {
   "cell_type": "code",
   "execution_count": 9,
   "metadata": {},
   "outputs": [
    {
     "name": "stdout",
     "output_type": "stream",
     "text": [
      "Deleted [{'id': '653215a5-b6ba-4c34-93ea-be1a6e368ec8', 'name': 'Los Angeles Lakers'}] rows for Los Angeles Lakers\n",
      "Deleted [{'id': '17353121-14ec-446d-acad-65d180731cfc', 'name': 'Boston Celtics'}] rows for Boston Celtics\n",
      "Deleted [{'id': 'd1f7a0d9-5bcf-436d-861d-d364ad8bccde', 'name': 'Golden State Warriors'}] rows for Golden State Warriors\n",
      "Deleted [{'id': '4374eda1-1ff8-4f0c-8415-55e4c69aa6ff', 'name': 'Chicago Bulls'}] rows for Chicago Bulls\n"
     ]
    }
   ],
   "source": [
    "# Delete dummy data\n",
    "dummy_teams = ['Los Angeles Lakers', 'Boston Celtics', 'Golden State Warriors', 'Chicago Bulls']\n",
    "for team in dummy_teams:\n",
    "    result = supabase.table('teams').delete().eq('name', team).execute()\n",
    "    print(f\"Deleted {result.data} rows for {team}\")"
   ]
  },
  {
   "cell_type": "code",
   "execution_count": 10,
   "metadata": {},
   "outputs": [
    {
     "name": "stdout",
     "output_type": "stream",
     "text": [
      "Remaining teams:\n",
      "[]\n"
     ]
    }
   ],
   "source": [
    "# Verify deletion\n",
    "remaining_teams = supabase.table('teams').select('*').execute()\n",
    "print(\"Remaining teams:\")\n",
    "print(remaining_teams.data)"
   ]
  },
  {
   "cell_type": "code",
   "execution_count": 13,
   "metadata": {},
   "outputs": [],
   "source": [
    "# Fetch schedule data\n",
    "schedule_data = get_sportradar_data('games/2023/REG/schedule.json')"
   ]
  },
  {
   "cell_type": "code",
   "execution_count": 17,
   "metadata": {},
   "outputs": [
    {
     "name": "stdout",
     "output_type": "stream",
     "text": [
      "Schedule data:\n"
     ]
    }
   ],
   "source": [
    "print(\"Schedule data:\")\n"
   ]
  },
  {
   "cell_type": "code",
   "execution_count": 15,
   "metadata": {},
   "outputs": [],
   "source": [
    "import pandas as pd"
   ]
  },
  {
   "cell_type": "code",
   "execution_count": null,
   "metadata": {},
   "outputs": [],
   "source": [
    "# Extract teams\n",
    "teams = {}\n",
    "for game in schedule_data['games']:\n",
    "    home_team = game['home']\n",
    "    away_team = game['away']\n",
    "    teams[home_team['id']] = home_team['name']\n",
    "    teams[away_team['id']] = away_team['name']"
   ]
  },
  {
   "cell_type": "code",
   "execution_count": 18,
   "metadata": {},
   "outputs": [
    {
     "name": "stdout",
     "output_type": "stream",
     "text": [
      "Total teams found: 36\n"
     ]
    },
    {
     "data": {
      "text/html": [
       "<div>\n",
       "<style scoped>\n",
       "    .dataframe tbody tr th:only-of-type {\n",
       "        vertical-align: middle;\n",
       "    }\n",
       "\n",
       "    .dataframe tbody tr th {\n",
       "        vertical-align: top;\n",
       "    }\n",
       "\n",
       "    .dataframe thead th {\n",
       "        text-align: right;\n",
       "    }\n",
       "</style>\n",
       "<table border=\"1\" class=\"dataframe\">\n",
       "  <thead>\n",
       "    <tr style=\"text-align: right;\">\n",
       "      <th></th>\n",
       "      <th>id</th>\n",
       "      <th>name</th>\n",
       "    </tr>\n",
       "  </thead>\n",
       "  <tbody>\n",
       "    <tr>\n",
       "      <th>0</th>\n",
       "      <td>583ed102-fb46-11e1-82cb-f4ce4684ea4c</td>\n",
       "      <td>Denver Nuggets</td>\n",
       "    </tr>\n",
       "    <tr>\n",
       "      <th>1</th>\n",
       "      <td>583ecae2-fb46-11e1-82cb-f4ce4684ea4c</td>\n",
       "      <td>Los Angeles Lakers</td>\n",
       "    </tr>\n",
       "    <tr>\n",
       "      <th>2</th>\n",
       "      <td>583ec825-fb46-11e1-82cb-f4ce4684ea4c</td>\n",
       "      <td>Golden State Warriors</td>\n",
       "    </tr>\n",
       "    <tr>\n",
       "      <th>3</th>\n",
       "      <td>583ecfa8-fb46-11e1-82cb-f4ce4684ea4c</td>\n",
       "      <td>Phoenix Suns</td>\n",
       "    </tr>\n",
       "    <tr>\n",
       "      <th>4</th>\n",
       "      <td>583ec97e-fb46-11e1-82cb-f4ce4684ea4c</td>\n",
       "      <td>Charlotte Hornets</td>\n",
       "    </tr>\n",
       "    <tr>\n",
       "      <th>5</th>\n",
       "      <td>583ecb8f-fb46-11e1-82cb-f4ce4684ea4c</td>\n",
       "      <td>Atlanta Hawks</td>\n",
       "    </tr>\n",
       "    <tr>\n",
       "      <th>6</th>\n",
       "      <td>583ec7cd-fb46-11e1-82cb-f4ce4684ea4c</td>\n",
       "      <td>Indiana Pacers</td>\n",
       "    </tr>\n",
       "    <tr>\n",
       "      <th>7</th>\n",
       "      <td>583ec8d4-fb46-11e1-82cb-f4ce4684ea4c</td>\n",
       "      <td>Washington Wizards</td>\n",
       "    </tr>\n",
       "    <tr>\n",
       "      <th>8</th>\n",
       "      <td>583ec70e-fb46-11e1-82cb-f4ce4684ea4c</td>\n",
       "      <td>New York Knicks</td>\n",
       "    </tr>\n",
       "    <tr>\n",
       "      <th>9</th>\n",
       "      <td>583eccfa-fb46-11e1-82cb-f4ce4684ea4c</td>\n",
       "      <td>Boston Celtics</td>\n",
       "    </tr>\n",
       "    <tr>\n",
       "      <th>10</th>\n",
       "      <td>583ed157-fb46-11e1-82cb-f4ce4684ea4c</td>\n",
       "      <td>Orlando Magic</td>\n",
       "    </tr>\n",
       "    <tr>\n",
       "      <th>11</th>\n",
       "      <td>583ecb3a-fb46-11e1-82cb-f4ce4684ea4c</td>\n",
       "      <td>Houston Rockets</td>\n",
       "    </tr>\n",
       "    <tr>\n",
       "      <th>12</th>\n",
       "      <td>583ecda6-fb46-11e1-82cb-f4ce4684ea4c</td>\n",
       "      <td>Toronto Raptors</td>\n",
       "    </tr>\n",
       "    <tr>\n",
       "      <th>13</th>\n",
       "      <td>583eca2f-fb46-11e1-82cb-f4ce4684ea4c</td>\n",
       "      <td>Minnesota Timberwolves</td>\n",
       "    </tr>\n",
       "    <tr>\n",
       "      <th>14</th>\n",
       "      <td>583ecea6-fb46-11e1-82cb-f4ce4684ea4c</td>\n",
       "      <td>Miami Heat</td>\n",
       "    </tr>\n",
       "    <tr>\n",
       "      <th>15</th>\n",
       "      <td>583ec928-fb46-11e1-82cb-f4ce4684ea4c</td>\n",
       "      <td>Detroit Pistons</td>\n",
       "    </tr>\n",
       "    <tr>\n",
       "      <th>16</th>\n",
       "      <td>583ec9d6-fb46-11e1-82cb-f4ce4684ea4c</td>\n",
       "      <td>Brooklyn Nets</td>\n",
       "    </tr>\n",
       "    <tr>\n",
       "      <th>17</th>\n",
       "      <td>583ec773-fb46-11e1-82cb-f4ce4684ea4c</td>\n",
       "      <td>Cleveland Cavaliers</td>\n",
       "    </tr>\n",
       "    <tr>\n",
       "      <th>18</th>\n",
       "      <td>583eca88-fb46-11e1-82cb-f4ce4684ea4c</td>\n",
       "      <td>Memphis Grizzlies</td>\n",
       "    </tr>\n",
       "    <tr>\n",
       "      <th>19</th>\n",
       "      <td>583ecc9a-fb46-11e1-82cb-f4ce4684ea4c</td>\n",
       "      <td>New Orleans Pelicans</td>\n",
       "    </tr>\n",
       "    <tr>\n",
       "      <th>20</th>\n",
       "      <td>583ec5fd-fb46-11e1-82cb-f4ce4684ea4c</td>\n",
       "      <td>Chicago Bulls</td>\n",
       "    </tr>\n",
       "    <tr>\n",
       "      <th>21</th>\n",
       "      <td>583ecfff-fb46-11e1-82cb-f4ce4684ea4c</td>\n",
       "      <td>Oklahoma City Thunder</td>\n",
       "    </tr>\n",
       "    <tr>\n",
       "      <th>22</th>\n",
       "      <td>583ece50-fb46-11e1-82cb-f4ce4684ea4c</td>\n",
       "      <td>Utah Jazz</td>\n",
       "    </tr>\n",
       "    <tr>\n",
       "      <th>23</th>\n",
       "      <td>583ed0ac-fb46-11e1-82cb-f4ce4684ea4c</td>\n",
       "      <td>Sacramento Kings</td>\n",
       "    </tr>\n",
       "    <tr>\n",
       "      <th>24</th>\n",
       "      <td>583ecd4f-fb46-11e1-82cb-f4ce4684ea4c</td>\n",
       "      <td>San Antonio Spurs</td>\n",
       "    </tr>\n",
       "    <tr>\n",
       "      <th>25</th>\n",
       "      <td>583ecf50-fb46-11e1-82cb-f4ce4684ea4c</td>\n",
       "      <td>Dallas Mavericks</td>\n",
       "    </tr>\n",
       "    <tr>\n",
       "      <th>26</th>\n",
       "      <td>583ecdfb-fb46-11e1-82cb-f4ce4684ea4c</td>\n",
       "      <td>LA Clippers</td>\n",
       "    </tr>\n",
       "    <tr>\n",
       "      <th>27</th>\n",
       "      <td>583ed056-fb46-11e1-82cb-f4ce4684ea4c</td>\n",
       "      <td>Portland Trail Blazers</td>\n",
       "    </tr>\n",
       "    <tr>\n",
       "      <th>28</th>\n",
       "      <td>583ecefd-fb46-11e1-82cb-f4ce4684ea4c</td>\n",
       "      <td>Milwaukee Bucks</td>\n",
       "    </tr>\n",
       "    <tr>\n",
       "      <th>29</th>\n",
       "      <td>583ec87d-fb46-11e1-82cb-f4ce4684ea4c</td>\n",
       "      <td>Philadelphia 76ers</td>\n",
       "    </tr>\n",
       "    <tr>\n",
       "      <th>30</th>\n",
       "      <td>2674a061-2cb1-4a0b-b0b6-e237ff267f45</td>\n",
       "      <td>Team Tamika</td>\n",
       "    </tr>\n",
       "    <tr>\n",
       "      <th>31</th>\n",
       "      <td>739e187c-5d96-477d-a2fb-5f40439138fc</td>\n",
       "      <td>Team Jalen</td>\n",
       "    </tr>\n",
       "    <tr>\n",
       "      <th>32</th>\n",
       "      <td>849c6b54-2cdc-4242-b194-7f7edd2ee341</td>\n",
       "      <td>Team Pau</td>\n",
       "    </tr>\n",
       "    <tr>\n",
       "      <th>33</th>\n",
       "      <td>d64e9292-0b2b-4c21-a623-fcadad5496f5</td>\n",
       "      <td>Team Detlef</td>\n",
       "    </tr>\n",
       "    <tr>\n",
       "      <th>34</th>\n",
       "      <td>592d3144-895b-43e9-ab15-e84666a845d5</td>\n",
       "      <td>East NBA All Stars</td>\n",
       "    </tr>\n",
       "    <tr>\n",
       "      <th>35</th>\n",
       "      <td>787ff06f-f0cc-484e-8114-04e0cdc444fa</td>\n",
       "      <td>West NBA All Stars</td>\n",
       "    </tr>\n",
       "  </tbody>\n",
       "</table>\n",
       "</div>"
      ],
      "text/plain": [
       "                                      id                    name\n",
       "0   583ed102-fb46-11e1-82cb-f4ce4684ea4c          Denver Nuggets\n",
       "1   583ecae2-fb46-11e1-82cb-f4ce4684ea4c      Los Angeles Lakers\n",
       "2   583ec825-fb46-11e1-82cb-f4ce4684ea4c   Golden State Warriors\n",
       "3   583ecfa8-fb46-11e1-82cb-f4ce4684ea4c            Phoenix Suns\n",
       "4   583ec97e-fb46-11e1-82cb-f4ce4684ea4c       Charlotte Hornets\n",
       "5   583ecb8f-fb46-11e1-82cb-f4ce4684ea4c           Atlanta Hawks\n",
       "6   583ec7cd-fb46-11e1-82cb-f4ce4684ea4c          Indiana Pacers\n",
       "7   583ec8d4-fb46-11e1-82cb-f4ce4684ea4c      Washington Wizards\n",
       "8   583ec70e-fb46-11e1-82cb-f4ce4684ea4c         New York Knicks\n",
       "9   583eccfa-fb46-11e1-82cb-f4ce4684ea4c          Boston Celtics\n",
       "10  583ed157-fb46-11e1-82cb-f4ce4684ea4c           Orlando Magic\n",
       "11  583ecb3a-fb46-11e1-82cb-f4ce4684ea4c         Houston Rockets\n",
       "12  583ecda6-fb46-11e1-82cb-f4ce4684ea4c         Toronto Raptors\n",
       "13  583eca2f-fb46-11e1-82cb-f4ce4684ea4c  Minnesota Timberwolves\n",
       "14  583ecea6-fb46-11e1-82cb-f4ce4684ea4c              Miami Heat\n",
       "15  583ec928-fb46-11e1-82cb-f4ce4684ea4c         Detroit Pistons\n",
       "16  583ec9d6-fb46-11e1-82cb-f4ce4684ea4c           Brooklyn Nets\n",
       "17  583ec773-fb46-11e1-82cb-f4ce4684ea4c     Cleveland Cavaliers\n",
       "18  583eca88-fb46-11e1-82cb-f4ce4684ea4c       Memphis Grizzlies\n",
       "19  583ecc9a-fb46-11e1-82cb-f4ce4684ea4c    New Orleans Pelicans\n",
       "20  583ec5fd-fb46-11e1-82cb-f4ce4684ea4c           Chicago Bulls\n",
       "21  583ecfff-fb46-11e1-82cb-f4ce4684ea4c   Oklahoma City Thunder\n",
       "22  583ece50-fb46-11e1-82cb-f4ce4684ea4c               Utah Jazz\n",
       "23  583ed0ac-fb46-11e1-82cb-f4ce4684ea4c        Sacramento Kings\n",
       "24  583ecd4f-fb46-11e1-82cb-f4ce4684ea4c       San Antonio Spurs\n",
       "25  583ecf50-fb46-11e1-82cb-f4ce4684ea4c        Dallas Mavericks\n",
       "26  583ecdfb-fb46-11e1-82cb-f4ce4684ea4c             LA Clippers\n",
       "27  583ed056-fb46-11e1-82cb-f4ce4684ea4c  Portland Trail Blazers\n",
       "28  583ecefd-fb46-11e1-82cb-f4ce4684ea4c         Milwaukee Bucks\n",
       "29  583ec87d-fb46-11e1-82cb-f4ce4684ea4c      Philadelphia 76ers\n",
       "30  2674a061-2cb1-4a0b-b0b6-e237ff267f45             Team Tamika\n",
       "31  739e187c-5d96-477d-a2fb-5f40439138fc              Team Jalen\n",
       "32  849c6b54-2cdc-4242-b194-7f7edd2ee341                Team Pau\n",
       "33  d64e9292-0b2b-4c21-a623-fcadad5496f5             Team Detlef\n",
       "34  592d3144-895b-43e9-ab15-e84666a845d5      East NBA All Stars\n",
       "35  787ff06f-f0cc-484e-8114-04e0cdc444fa      West NBA All Stars"
      ]
     },
     "execution_count": 18,
     "metadata": {},
     "output_type": "execute_result"
    }
   ],
   "source": [
    "# Extract teams\n",
    "teams = {}\n",
    "# When you assign a value to a dictionary key, it either creates a new entry (if the key didn't exist) or overwrites the existing value (if the key already existed).\n",
    "# Since team IDs are unique, even if a team appears in multiple games, it will only be added to the dictionary once.\n",
    "\n",
    "for game in schedule_data['games']:\n",
    "    home_team = game['home']\n",
    "    away_team = game['away']\n",
    "    teams[home_team['id']] = home_team['name']\n",
    "    teams[away_team['id']] = away_team['name']\n",
    "\n",
    "# Convert to DataFrame for easy viewing\n",
    "teams_df = pd.DataFrame(list(teams.items()), columns=['id', 'name'])\n",
    "print(f\"Total teams found: {len(teams_df)}\")\n",
    "teams_df"
   ]
  },
  {
   "cell_type": "code",
   "execution_count": 19,
   "metadata": {},
   "outputs": [
    {
     "name": "stdout",
     "output_type": "stream",
     "text": [
      "Total teams after removal: 30\n",
      "                                      id                    name\n",
      "0   583ed102-fb46-11e1-82cb-f4ce4684ea4c          Denver Nuggets\n",
      "1   583ecae2-fb46-11e1-82cb-f4ce4684ea4c      Los Angeles Lakers\n",
      "2   583ec825-fb46-11e1-82cb-f4ce4684ea4c   Golden State Warriors\n",
      "3   583ecfa8-fb46-11e1-82cb-f4ce4684ea4c            Phoenix Suns\n",
      "4   583ec97e-fb46-11e1-82cb-f4ce4684ea4c       Charlotte Hornets\n",
      "5   583ecb8f-fb46-11e1-82cb-f4ce4684ea4c           Atlanta Hawks\n",
      "6   583ec7cd-fb46-11e1-82cb-f4ce4684ea4c          Indiana Pacers\n",
      "7   583ec8d4-fb46-11e1-82cb-f4ce4684ea4c      Washington Wizards\n",
      "8   583ec70e-fb46-11e1-82cb-f4ce4684ea4c         New York Knicks\n",
      "9   583eccfa-fb46-11e1-82cb-f4ce4684ea4c          Boston Celtics\n",
      "10  583ed157-fb46-11e1-82cb-f4ce4684ea4c           Orlando Magic\n",
      "11  583ecb3a-fb46-11e1-82cb-f4ce4684ea4c         Houston Rockets\n",
      "12  583ecda6-fb46-11e1-82cb-f4ce4684ea4c         Toronto Raptors\n",
      "13  583eca2f-fb46-11e1-82cb-f4ce4684ea4c  Minnesota Timberwolves\n",
      "14  583ecea6-fb46-11e1-82cb-f4ce4684ea4c              Miami Heat\n",
      "15  583ec928-fb46-11e1-82cb-f4ce4684ea4c         Detroit Pistons\n",
      "16  583ec9d6-fb46-11e1-82cb-f4ce4684ea4c           Brooklyn Nets\n",
      "17  583ec773-fb46-11e1-82cb-f4ce4684ea4c     Cleveland Cavaliers\n",
      "18  583eca88-fb46-11e1-82cb-f4ce4684ea4c       Memphis Grizzlies\n",
      "19  583ecc9a-fb46-11e1-82cb-f4ce4684ea4c    New Orleans Pelicans\n",
      "20  583ec5fd-fb46-11e1-82cb-f4ce4684ea4c           Chicago Bulls\n",
      "21  583ecfff-fb46-11e1-82cb-f4ce4684ea4c   Oklahoma City Thunder\n",
      "22  583ece50-fb46-11e1-82cb-f4ce4684ea4c               Utah Jazz\n",
      "23  583ed0ac-fb46-11e1-82cb-f4ce4684ea4c        Sacramento Kings\n",
      "24  583ecd4f-fb46-11e1-82cb-f4ce4684ea4c       San Antonio Spurs\n",
      "25  583ecf50-fb46-11e1-82cb-f4ce4684ea4c        Dallas Mavericks\n",
      "26  583ecdfb-fb46-11e1-82cb-f4ce4684ea4c             LA Clippers\n",
      "27  583ed056-fb46-11e1-82cb-f4ce4684ea4c  Portland Trail Blazers\n",
      "28  583ecefd-fb46-11e1-82cb-f4ce4684ea4c         Milwaukee Bucks\n",
      "29  583ec87d-fb46-11e1-82cb-f4ce4684ea4c      Philadelphia 76ers\n"
     ]
    }
   ],
   "source": [
    "# List of team IDs to remove\n",
    "teams_to_remove = [\n",
    "    '2674a061-2cb1-4a0b-b0b6-e237ff267f45',\n",
    "    '739e187c-5d96-477d-a2fb-5f40439138fc',\n",
    "    '849c6b54-2cdc-4242-b194-7f7edd2ee341',\n",
    "    'd64e9292-0b2b-4c21-a623-fcadad5496f5',\n",
    "    '592d3144-895b-43e9-ab15-e84666a845d5',\n",
    "    '787ff06f-f0cc-484e-8114-04e0cdc444fa'\n",
    "]\n",
    "\n",
    "# Remove the teams\n",
    "teams_df = teams_df[~teams_df['id'].isin(teams_to_remove)]\n",
    "\n",
    "# Reset the index if needed\n",
    "teams_df = teams_df.reset_index(drop=True)\n",
    "\n",
    "# Print the updated DataFrame\n",
    "print(f\"Total teams after removal: {len(teams_df)}\")\n",
    "print(teams_df)"
   ]
  },
  {
   "cell_type": "markdown",
   "metadata": {},
   "source": [
    "## Populating teams table in supabase"
   ]
  },
  {
   "cell_type": "code",
   "execution_count": 20,
   "metadata": {},
   "outputs": [],
   "source": [
    "# Convert DataFrame to a list of dictionaries\n",
    "teams_data = teams_df.to_dict('records')"
   ]
  },
  {
   "cell_type": "code",
   "execution_count": 22,
   "metadata": {},
   "outputs": [
    {
     "name": "stdout",
     "output_type": "stream",
     "text": [
      "The teams table is already empty.\n"
     ]
    }
   ],
   "source": [
    "# Clear existing data (optional, use with caution)\n",
    "\n",
    "# Check if there are any records in the teams table\n",
    "existing_teams = supabase.table('teams').select('id').execute()\n",
    "\n",
    "if existing_teams.data:\n",
    "    # If there are records, delete them all\n",
    "    delete_result = supabase.table('teams').delete().execute()\n",
    "    print(f\"Deleted {len(delete_result.data)} existing team records.\")\n",
    "else:\n",
    "    # If there are no records, inform that the table is empty\n",
    "    print(\"The teams table is already empty.\")"
   ]
  },
  {
   "cell_type": "code",
   "execution_count": 23,
   "metadata": {},
   "outputs": [
    {
     "name": "stdout",
     "output_type": "stream",
     "text": [
      "Current number of records in teams table: 0\n"
     ]
    }
   ],
   "source": [
    "# Verify the table state after operation\n",
    "verification = supabase.table('teams').select('id').execute()\n",
    "print(f\"Current number of records in teams table: {len(verification.data)}\")"
   ]
  },
  {
   "cell_type": "code",
   "execution_count": 24,
   "metadata": {},
   "outputs": [
    {
     "name": "stdout",
     "output_type": "stream",
     "text": [
      "Successfully inserted 30 teams.\n"
     ]
    }
   ],
   "source": [
    "# Insert data into Supabase\n",
    "result = supabase.table('teams').insert(teams_data).execute()\n",
    "\n",
    "# Check the result\n",
    "if result.data:\n",
    "    print(f\"Successfully inserted {len(result.data)} teams.\")\n",
    "else:\n",
    "    print(\"Failed to insert teams.\")\n",
    "    print(\"Error:\", result.error)"
   ]
  },
  {
   "cell_type": "code",
   "execution_count": 25,
   "metadata": {},
   "outputs": [
    {
     "name": "stdout",
     "output_type": "stream",
     "text": [
      "Total teams in Supabase: 30\n",
      "                                      id                    name\n",
      "0   583ed102-fb46-11e1-82cb-f4ce4684ea4c          Denver Nuggets\n",
      "1   583ecae2-fb46-11e1-82cb-f4ce4684ea4c      Los Angeles Lakers\n",
      "2   583ec825-fb46-11e1-82cb-f4ce4684ea4c   Golden State Warriors\n",
      "3   583ecfa8-fb46-11e1-82cb-f4ce4684ea4c            Phoenix Suns\n",
      "4   583ec97e-fb46-11e1-82cb-f4ce4684ea4c       Charlotte Hornets\n",
      "5   583ecb8f-fb46-11e1-82cb-f4ce4684ea4c           Atlanta Hawks\n",
      "6   583ec7cd-fb46-11e1-82cb-f4ce4684ea4c          Indiana Pacers\n",
      "7   583ec8d4-fb46-11e1-82cb-f4ce4684ea4c      Washington Wizards\n",
      "8   583ec70e-fb46-11e1-82cb-f4ce4684ea4c         New York Knicks\n",
      "9   583eccfa-fb46-11e1-82cb-f4ce4684ea4c          Boston Celtics\n",
      "10  583ed157-fb46-11e1-82cb-f4ce4684ea4c           Orlando Magic\n",
      "11  583ecb3a-fb46-11e1-82cb-f4ce4684ea4c         Houston Rockets\n",
      "12  583ecda6-fb46-11e1-82cb-f4ce4684ea4c         Toronto Raptors\n",
      "13  583eca2f-fb46-11e1-82cb-f4ce4684ea4c  Minnesota Timberwolves\n",
      "14  583ecea6-fb46-11e1-82cb-f4ce4684ea4c              Miami Heat\n",
      "15  583ec928-fb46-11e1-82cb-f4ce4684ea4c         Detroit Pistons\n",
      "16  583ec9d6-fb46-11e1-82cb-f4ce4684ea4c           Brooklyn Nets\n",
      "17  583ec773-fb46-11e1-82cb-f4ce4684ea4c     Cleveland Cavaliers\n",
      "18  583eca88-fb46-11e1-82cb-f4ce4684ea4c       Memphis Grizzlies\n",
      "19  583ecc9a-fb46-11e1-82cb-f4ce4684ea4c    New Orleans Pelicans\n",
      "20  583ec5fd-fb46-11e1-82cb-f4ce4684ea4c           Chicago Bulls\n",
      "21  583ecfff-fb46-11e1-82cb-f4ce4684ea4c   Oklahoma City Thunder\n",
      "22  583ece50-fb46-11e1-82cb-f4ce4684ea4c               Utah Jazz\n",
      "23  583ed0ac-fb46-11e1-82cb-f4ce4684ea4c        Sacramento Kings\n",
      "24  583ecd4f-fb46-11e1-82cb-f4ce4684ea4c       San Antonio Spurs\n",
      "25  583ecf50-fb46-11e1-82cb-f4ce4684ea4c        Dallas Mavericks\n",
      "26  583ecdfb-fb46-11e1-82cb-f4ce4684ea4c             LA Clippers\n",
      "27  583ed056-fb46-11e1-82cb-f4ce4684ea4c  Portland Trail Blazers\n",
      "28  583ecefd-fb46-11e1-82cb-f4ce4684ea4c         Milwaukee Bucks\n",
      "29  583ec87d-fb46-11e1-82cb-f4ce4684ea4c      Philadelphia 76ers\n"
     ]
    }
   ],
   "source": [
    "# Verify the insertion\n",
    "fetched_teams = supabase.table('teams').select('*').execute()\n",
    "fetched_df = pd.DataFrame(fetched_teams.data)\n",
    "\n",
    "print(f\"Total teams in Supabase: {len(fetched_df)}\")\n",
    "print(fetched_df)\n"
   ]
  }
 ],
 "metadata": {
  "kernelspec": {
   "display_name": "venv",
   "language": "python",
   "name": "python3"
  },
  "language_info": {
   "codemirror_mode": {
    "name": "ipython",
    "version": 3
   },
   "file_extension": ".py",
   "mimetype": "text/x-python",
   "name": "python",
   "nbconvert_exporter": "python",
   "pygments_lexer": "ipython3",
   "version": "3.11.8"
  }
 },
 "nbformat": 4,
 "nbformat_minor": 2
}
